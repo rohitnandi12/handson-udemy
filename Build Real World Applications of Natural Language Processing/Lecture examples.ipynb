{
 "cells": [
  {
   "cell_type": "code",
   "execution_count": null,
   "id": "7e557ae6-b605-4f3f-87a3-ecc4ce82faa9",
   "metadata": {},
   "outputs": [],
   "source": [
    "# installation\n",
    "# !pip install nltk\n",
    "import nltk\n",
    "# nltk.download()"
   ]
  },
  {
   "cell_type": "markdown",
   "id": "790f8315-049e-401a-916d-09c86edbf23b",
   "metadata": {},
   "source": [
    "# Tokenization"
   ]
  },
  {
   "cell_type": "code",
   "execution_count": 1,
   "id": "56a6dda9-298c-48c3-adcd-b4201212c4bb",
   "metadata": {},
   "outputs": [],
   "source": [
    "from  nltk.tokenize import sent_tokenize, word_tokenize"
   ]
  },
  {
   "cell_type": "code",
   "execution_count": 5,
   "id": "32cf2edf-c2e5-48c6-8210-faa735fcda64",
   "metadata": {},
   "outputs": [],
   "source": [
    "sample_text = \"Hello Mr. Brown, how are you? The weather is nice today. How is your mother-in-law?\""
   ]
  },
  {
   "cell_type": "code",
   "execution_count": 6,
   "id": "f3d02e2b-4514-4038-ad1d-6189d774bf20",
   "metadata": {},
   "outputs": [
    {
     "data": {
      "text/plain": [
       "['Hello Mr. Brown, how are you?',\n",
       " 'The weather is nice today.',\n",
       " 'How is your mother-in-law?']"
      ]
     },
     "execution_count": 6,
     "metadata": {},
     "output_type": "execute_result"
    }
   ],
   "source": [
    "sent_tokenize(sample_text)"
   ]
  },
  {
   "cell_type": "code",
   "execution_count": 7,
   "id": "c6a5c7df-4c2a-4d23-9bd7-0cf27d2e12e0",
   "metadata": {},
   "outputs": [
    {
     "data": {
      "text/plain": [
       "['Hello',\n",
       " 'Mr.',\n",
       " 'Brown',\n",
       " ',',\n",
       " 'how',\n",
       " 'are',\n",
       " 'you',\n",
       " '?',\n",
       " 'The',\n",
       " 'weather',\n",
       " 'is',\n",
       " 'nice',\n",
       " 'today',\n",
       " '.',\n",
       " 'How',\n",
       " 'is',\n",
       " 'your',\n",
       " 'mother-in-law',\n",
       " '?']"
      ]
     },
     "execution_count": 7,
     "metadata": {},
     "output_type": "execute_result"
    }
   ],
   "source": [
    "word_tokenize(sample_text)"
   ]
  },
  {
   "cell_type": "markdown",
   "id": "cfaa5be1-b41d-4081-ad30-70c21364bb10",
   "metadata": {},
   "source": [
    "# Normalization"
   ]
  },
  {
   "cell_type": "markdown",
   "id": "28003a67-cd55-4cee-9025-97910e0d7b52",
   "metadata": {},
   "source": [
    "### Stemming"
   ]
  },
  {
   "cell_type": "code",
   "execution_count": 8,
   "id": "a3b10b3d-5532-447d-bb32-90efa5736988",
   "metadata": {},
   "outputs": [],
   "source": [
    "from nltk.tokenize import word_tokenize\n",
    "from nltk.stem import PorterStemmer\n",
    "ps = PorterStemmer()"
   ]
  },
  {
   "cell_type": "code",
   "execution_count": 12,
   "id": "bf37cf88-1a5a-4605-8f56-0e6d39204eb1",
   "metadata": {},
   "outputs": [
    {
     "data": {
      "text/plain": [
       "['illeag', 'legal']"
      ]
     },
     "execution_count": 12,
     "metadata": {},
     "output_type": "execute_result"
    }
   ],
   "source": [
    "list(map(lambda x : ps.stem(x), [\"legal\", \"illegal\", \"legalize\", \"legally\"]))"
   ]
  },
  {
   "cell_type": "markdown",
   "id": "c9b70d54-9549-49fa-8848-1d71aafa306f",
   "metadata": {},
   "source": [
    "### Lemmatization"
   ]
  },
  {
   "cell_type": "code",
   "execution_count": 13,
   "id": "631c2a29-d531-452c-a36b-283bd78799ad",
   "metadata": {},
   "outputs": [],
   "source": [
    "from nltk.stem import WordNetLemmatizer\n",
    "\n",
    "lemmatizer = WordNetLemmatizer()"
   ]
  },
  {
   "cell_type": "code",
   "execution_count": 18,
   "id": "0a9fcdb5-8f3b-49cc-9dea-78c85a2f415d",
   "metadata": {},
   "outputs": [
    {
     "data": {
      "text/plain": [
       "['puppy', 'wolf', 'abacus', 'church', 'people']"
      ]
     },
     "execution_count": 18,
     "metadata": {},
     "output_type": "execute_result"
    }
   ],
   "source": [
    "list(map(lambda x: lemmatizer.lemmatize(x), [\"puppies\", \"wolves\", \"abaci\", \"churches\", \"peoples\"]))"
   ]
  },
  {
   "cell_type": "code",
   "execution_count": 20,
   "id": "dcfabf42-1262-47c6-a3dc-efe4fc098749",
   "metadata": {},
   "outputs": [
    {
     "data": {
      "text/plain": [
       "'good'"
      ]
     },
     "execution_count": 20,
     "metadata": {},
     "output_type": "execute_result"
    }
   ],
   "source": [
    "lemmatizer.lemmatize(\"better\", pos=\"a\") # pos = parts of speech , a = adjective"
   ]
  },
  {
   "cell_type": "markdown",
   "id": "ae28c61e-6ddd-465e-b132-9e60061589d7",
   "metadata": {},
   "source": [
    "### Part of Speech Tagging"
   ]
  },
  {
   "cell_type": "code",
   "execution_count": 21,
   "id": "63fd49f3-2103-4b85-ad3a-16e5de6173f9",
   "metadata": {},
   "outputs": [],
   "source": [
    "from nltk import pos_tag\n",
    "from nltk import word_tokenize, sent_tokenize\n",
    "sample_text = \"Hello Mr. Brown, how are you? The weather is nice today. How is your mother-in-law?\""
   ]
  },
  {
   "cell_type": "code",
   "execution_count": 22,
   "id": "85d17f73-fab2-4157-b056-0f032cee1915",
   "metadata": {},
   "outputs": [
    {
     "data": {
      "text/plain": [
       "[('Hello', 'NNP'),\n",
       " ('Mr.', 'NNP'),\n",
       " ('Brown', 'NNP'),\n",
       " (',', ','),\n",
       " ('how', 'WRB'),\n",
       " ('are', 'VBP'),\n",
       " ('you', 'PRP'),\n",
       " ('?', '.'),\n",
       " ('The', 'DT'),\n",
       " ('weather', 'NN'),\n",
       " ('is', 'VBZ'),\n",
       " ('nice', 'JJ'),\n",
       " ('today', 'NN'),\n",
       " ('.', '.'),\n",
       " ('How', 'WRB'),\n",
       " ('is', 'VBZ'),\n",
       " ('your', 'PRP$'),\n",
       " ('mother-in-law', 'NN'),\n",
       " ('?', '.')]"
      ]
     },
     "execution_count": 22,
     "metadata": {},
     "output_type": "execute_result"
    }
   ],
   "source": [
    "pos_tag(word_tokenize(sample_text))"
   ]
  },
  {
   "cell_type": "markdown",
   "id": "f9a42281-d4fa-4728-a1c7-5326a8323725",
   "metadata": {},
   "source": [
    "''' POS Tag list:\r\n",
    "\r\n",
    "    CC coordinating conjunction\r\n",
    "    CD cardinal digit\r\n",
    "    DT determiner\r\n",
    "    EX existential there (like: \"there is\" ... think of it like \"there exists\")\r\n",
    "    FW foreign word\r\n",
    "    IN preposition/subordinating conjunction\r\n",
    "    JJ adjective 'big'\r\n",
    "    JJR adjective, comparative 'bigger'\r\n",
    "    JJS adjective, superlative 'biggest'\r\n",
    "    LS list marker 1)\r\n",
    "    MD modal could, will\r\n",
    "    NN noun, singular 'desk'\r\n",
    "    NNS noun plural 'desks'\r\n",
    "    NNP proper noun, singular 'Harrison'\r\n",
    "    NNPS proper noun, plural 'Americans'\r\n",
    "    PDT predeterminer 'all the kids'\r\n",
    "    POS possessive ending parent's\r\n",
    "    PRP personal pronoun I, he, she\r\n",
    "    PRP$ possessive pronoun my, his, hers\r\n",
    "    RB adverb very, silently,\r\n",
    "    RBR adverb, comparative better\r\n",
    "    RBS adverb, superlative best\r\n",
    "    RP particle give up\r\n",
    "    TO to go 'to' the store.\r\n",
    "    UH interjection errrrrrrrm\r\n",
    "    VB verb, base form take\r\n",
    "    VBD verb, past tense took\r\n",
    "    VBG verb, gerund/present participle taking\r\n",
    "    VBN verb, past participle taken\r\n",
    "    VBP verb, sing. present, non-3d take\r\n",
    "    VBZ verb, 3rd person sing. present takes\r\n",
    "    WDT wh-determiner which\r\n",
    "    WP wh-pronoun who, what\r\n",
    "    WP$ possessive wh-pronoun whose\r\n",
    "    WRB wh-abverb where, when\r\n",
    "'''"
   ]
  },
  {
   "cell_type": "markdown",
   "id": "8e57f3ee-6981-4f89-a68e-40bd70b4f09b",
   "metadata": {},
   "source": [
    "### Stopwords"
   ]
  },
  {
   "cell_type": "code",
   "execution_count": 9,
   "id": "9afc93ea-1bf6-46a8-86f6-c8ce294932f2",
   "metadata": {},
   "outputs": [],
   "source": [
    "from nltk.corpus import stopwords\n",
    "sample_text = \"Rohit Nandi works at google AI/ML Headquarters as a Director\""
   ]
  },
  {
   "cell_type": "code",
   "execution_count": 10,
   "id": "49c858e0-88d7-4de2-9a75-fcca1a592ac9",
   "metadata": {},
   "outputs": [
    {
     "data": {
      "text/plain": [
       "['Rohit', 'Nandi', 'works', 'google', 'AI/ML', 'Headquarters', 'Director']"
      ]
     },
     "execution_count": 10,
     "metadata": {},
     "output_type": "execute_result"
    }
   ],
   "source": [
    "stop_words = stopwords.words(\"english\")\n",
    "[word for word in word_tokenize(sample_text) if word not in stop_words]"
   ]
  },
  {
   "cell_type": "markdown",
   "id": "388c957e-bce7-434d-9648-3af6ccbe2e06",
   "metadata": {},
   "source": [
    "### Named Entity Recognition"
   ]
  },
  {
   "cell_type": "code",
   "execution_count": 11,
   "id": "f5fe154c-6247-4061-9a23-c3953416f90a",
   "metadata": {},
   "outputs": [],
   "source": [
    "# !pip install numpy\n",
    "import nltk\n",
    "import numpy as np\n",
    "from nltk import pos_tag\n",
    "from nltk import word_tokenize"
   ]
  },
  {
   "cell_type": "code",
   "execution_count": 12,
   "id": "a266b012-c826-48d7-bad7-cd321ceb28e8",
   "metadata": {},
   "outputs": [],
   "source": [
    "sample_text = \"Trump economic advisor Larry Kudlow told Fox Business Wednesday that the administration supports \" \\\n",
    "              \"measures to increase oversight of Chinese firms, though the White House hasn't publicly stated an \" \\\n",
    "              \"opinion on this particular legislation.\"\n",
    "\n",
    "tokenized_words = word_tokenize(sample_text)\n",
    "tag = pos_tag(tokenized_words)"
   ]
  },
  {
   "cell_type": "code",
   "execution_count": 13,
   "id": "c6be9571-9d36-45d4-8faf-9fd96f7e4991",
   "metadata": {},
   "outputs": [],
   "source": [
    "namedEnt = nltk.ne_chunk(tag, binary=True)\n",
    "namedEnt.draw()"
   ]
  },
  {
   "cell_type": "markdown",
   "id": "6e73f487-cf69-46b4-bfa0-9414224926ad",
   "metadata": {},
   "source": [
    "### Chunking"
   ]
  },
  {
   "cell_type": "code",
   "execution_count": 14,
   "id": "3a640f92-7fa6-47aa-87c1-78cc7c01df07",
   "metadata": {},
   "outputs": [],
   "source": [
    "rule = r'Chunk: {<NN[SP]*.?>+<.>}'\n",
    "parser = nltk.RegexpParser(rule)\n",
    "chunk = parser.parse(tag)\n",
    "\n",
    "chunk.draw()"
   ]
  }
 ],
 "metadata": {
  "kernelspec": {
   "display_name": "Python 3 (ipykernel)",
   "language": "python",
   "name": "python3"
  },
  "language_info": {
   "codemirror_mode": {
    "name": "ipython",
    "version": 3
   },
   "file_extension": ".py",
   "mimetype": "text/x-python",
   "name": "python",
   "nbconvert_exporter": "python",
   "pygments_lexer": "ipython3",
   "version": "3.11.7"
  }
 },
 "nbformat": 4,
 "nbformat_minor": 5
}
