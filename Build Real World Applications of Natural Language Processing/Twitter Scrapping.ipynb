{
 "cells": [
  {
   "cell_type": "code",
   "execution_count": null,
   "id": "4490cb91-6ac2-4c9f-8c9b-23e5788d1e42",
   "metadata": {},
   "outputs": [],
   "source": [
    "# !pip install python-twitter"
   ]
  },
  {
   "cell_type": "code",
   "execution_count": null,
   "id": "56c275b8-e3a1-4790-bc65-df7c5b1db439",
   "metadata": {},
   "outputs": [],
   "source": [
    "import twitter\n",
    "from twitter import TwitterError"
   ]
  },
  {
   "cell_type": "code",
   "execution_count": null,
   "id": "5d15ec68-2d9b-413b-8fa1-1de4178ef57f",
   "metadata": {},
   "outputs": [],
   "source": [
    "# Regenerate from https://developer.x.com/en/portal/projects/1811996096912396288/apps/29051176/keys\n",
    "ACCCESS_TOKEN = \"9asdasdfscCI3\"\n",
    "ACCESS_TOKEN_SECRET = \"MxCdCP0dfghdjdjfWAzp\"\n",
    "CONSUMER_KEY = \"FpO0dfgdq2ApH\"\n",
    "CONSUMER_SECRET = \"ezpzeY9gdfgdfdffgHc3s\""
   ]
  },
  {
   "cell_type": "code",
   "execution_count": null,
   "id": "3a270137-412b-43d3-af3b-5a783ef90d55",
   "metadata": {},
   "outputs": [],
   "source": [
    "# initialize api instance\n",
    "twitter_api = twitter.Api(consumer_key=CONSUMER_KEY,\n",
    "                          consumer_secret=CONSUMER_SECRET,\n",
    "                          access_token_key=ACCCESS_TOKEN,\n",
    "                          access_token_secret=ACCESS_TOKEN_SECRET)\n",
    "\n",
    "print(twitter_api.VerifyCredentials())"
   ]
  },
  {
   "cell_type": "code",
   "execution_count": null,
   "id": "c8be5f97-4c70-4edd-944e-90fdca2713e3",
   "metadata": {},
   "outputs": [],
   "source": [
    "def build_test_set(search_keyword):\n",
    "    try:\n",
    "        tweets_fetched = twitter_api.GetSearch(search_keyword, count=100)\n",
    "\n",
    "        print(\"Fetched \" + str(len(tweets_fetched)) + \" tweets for the term \" + search_keyword)\n",
    "\n",
    "        return [{\"text\": status.text, \"label\": None} for status in tweets_fetched]\n",
    "    except:\n",
    "        print(\"Unfortunately, something went wrong..\")\n",
    "        return None"
   ]
  },
  {
   "cell_type": "markdown",
   "id": "1bf4de8b-31d3-476f-acb7-db4823f22878",
   "metadata": {},
   "source": [
    "#### Build Training Set"
   ]
  },
  {
   "cell_type": "code",
   "execution_count": null,
   "id": "bfa7e542-2a84-444d-a8d5-47cfd87e8e73",
   "metadata": {},
   "outputs": [],
   "source": [
    "corpus = []\n",
    "with open(corpusFile, 'rt') as csvfile:\n",
    "    lineReader = csv.reader(csvfile, delimiter=',', quotechar=\"\\\"\")\n",
    "    for row in lineReader:\n",
    "        corpus.append({\"tweet_id\": row[2], \"label\": row[1], \"topic\": row[0]})\n",
    "\n",
    "trainingDataSet = []\n",
    "\n",
    "for tweet in corpus:\n",
    "    try:\n",
    "        status = twitter_api.GetStatus(tweet[\"tweet_id\"])\n",
    "        print(\"Tweet fetched: \" + status.text)\n",
    "        tweet[\"text\"] = status.text\n",
    "        trainingDataSet.append(tweet)\n",
    "    except TwitterError as err:\n",
    "        print(\"Error while fetching tweet ID \" + tweet[\"tweet_id\"] + \". Message: \" + err.message[0][\"message\"])\n",
    "\n",
    "# Now we write them to the empty CSV file\n",
    "with open('tweets_data.csv', 'wt') as csvfile:\n",
    "    linewriter = csv.writer(csvfile, delimiter=',', quotechar=\"\\\"\")\n",
    "    for tweet in trainingDataSet:\n",
    "        try:\n",
    "            linewriter.writerow([tweet[\"tweet_id\"], tweet[\"text\"], tweet[\"label\"], tweet[\"topic\"]])\n",
    "        except Exception as e:\n",
    "            print(e)"
   ]
  },
  {
   "cell_type": "code",
   "execution_count": null,
   "id": "3f6828a5-5c19-4c1f-8793-bbfd70031178",
   "metadata": {},
   "outputs": [],
   "source": [
    "search_term = input(\"Enter a search keyword: \")\n",
    "test_data_set = build_test_set(search_term)"
   ]
  }
 ],
 "metadata": {
  "kernelspec": {
   "display_name": "Python 3 (ipykernel)",
   "language": "python",
   "name": "python3"
  },
  "language_info": {
   "codemirror_mode": {
    "name": "ipython",
    "version": 3
   },
   "file_extension": ".py",
   "mimetype": "text/x-python",
   "name": "python",
   "nbconvert_exporter": "python",
   "pygments_lexer": "ipython3",
   "version": "3.11.7"
  }
 },
 "nbformat": 4,
 "nbformat_minor": 5
}
